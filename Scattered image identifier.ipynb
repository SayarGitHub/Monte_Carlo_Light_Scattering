{
 "cells": [
  {
   "cell_type": "code",
   "execution_count": 66,
   "metadata": {
    "colab": {
     "base_uri": "https://localhost:8080/"
    },
    "executionInfo": {
     "elapsed": 2760,
     "status": "ok",
     "timestamp": 1615630669376,
     "user": {
      "displayName": "Sayar Mandal",
      "photoUrl": "https://lh3.googleusercontent.com/a-/AOh14GiYfCBsxV5lDpyQsXyzc7eqWNecs8wCIlMqlTXJNw=s64",
      "userId": "04916811164456584774"
     },
     "user_tz": -330
    },
    "id": "TyOTsACRlwCT",
    "outputId": "3746fe5e-e9a7-4c1f-fe09-abfc65cd5781"
   },
   "outputs": [
    {
     "name": "stdout",
     "output_type": "stream",
     "text": [
      "Drive already mounted at /gdrive; to attempt to forcibly remount, call drive.mount(\"/gdrive\", force_remount=True).\n"
     ]
    }
   ],
   "source": [
    "from google.colab import drive\n",
    "drive.mount('/gdrive')"
   ]
  },
  {
   "cell_type": "code",
   "execution_count": 67,
   "metadata": {
    "colab": {
     "base_uri": "https://localhost:8080/"
    },
    "executionInfo": {
     "elapsed": 2080,
     "status": "ok",
     "timestamp": 1615630676423,
     "user": {
      "displayName": "Sayar Mandal",
      "photoUrl": "https://lh3.googleusercontent.com/a-/AOh14GiYfCBsxV5lDpyQsXyzc7eqWNecs8wCIlMqlTXJNw=s64",
      "userId": "04916811164456584774"
     },
     "user_tz": -330
    },
    "id": "vlzGTiUYlwqb",
    "outputId": "1c6cba23-3871-4b70-dacc-26963dd52313"
   },
   "outputs": [
    {
     "name": "stdout",
     "output_type": "stream",
     "text": [
      "/gdrive/My Drive/Monte_Carlo_Light_Scattering\n"
     ]
    }
   ],
   "source": [
    "%cd /gdrive/My\\ Drive/Monte_Carlo_Light_Scattering"
   ]
  },
  {
   "cell_type": "code",
   "execution_count": 68,
   "metadata": {
    "executionInfo": {
     "elapsed": 1794,
     "status": "ok",
     "timestamp": 1615630682305,
     "user": {
      "displayName": "Sayar Mandal",
      "photoUrl": "https://lh3.googleusercontent.com/a-/AOh14GiYfCBsxV5lDpyQsXyzc7eqWNecs8wCIlMqlTXJNw=s64",
      "userId": "04916811164456584774"
     },
     "user_tz": -330
    },
    "id": "Kf2Y4HZ0iyQP"
   },
   "outputs": [],
   "source": [
    "import numpy as np\n",
    "import tensorflow as tf\n",
    "from tensorflow.keras.models import Sequential\n",
    "from tensorflow.keras.layers import Dense, Dropout, Activation, Flatten\n",
    "from tensorflow.keras.layers import Conv2D, MaxPooling2D\n",
    "import matplotlib.pyplot as plt\n",
    "import cv2"
   ]
  },
  {
   "cell_type": "code",
   "execution_count": null,
   "metadata": {
    "id": "dDKcJMrBtbC8"
   },
   "outputs": [],
   "source": [
    "mnist = tf.keras.datasets.mnist\n",
    "(x_train,y_train),(x_test,y_test) = mnist.load_data()\n",
    "x_train = tf.keras.utils.normalize(x_train , axis =1)\n",
    "x_test = tf.keras.utils.normalize(x_test , axis =1)\n",
    "x_train = x_train[:2000]\n",
    "x_test = x_test[:200]\n",
    "y_train = y_train[:2000]\n",
    "y_test = y_test[:200]"
   ]
  },
  {
   "cell_type": "code",
   "execution_count": null,
   "metadata": {
    "colab": {
     "base_uri": "https://localhost:8080/",
     "height": 265
    },
    "executionInfo": {
     "elapsed": 1845,
     "status": "ok",
     "timestamp": 1615620006790,
     "user": {
      "displayName": "Sayar Mandal",
      "photoUrl": "https://lh3.googleusercontent.com/a-/AOh14GiYfCBsxV5lDpyQsXyzc7eqWNecs8wCIlMqlTXJNw=s64",
      "userId": "04916811164456584774"
     },
     "user_tz": -330
    },
    "id": "TUjCQaSdttU8",
    "outputId": "b26a01cb-8c4b-4971-b67a-1758fcacf9ef"
   },
   "outputs": [
    {
     "data": {
      "image/png": "[encoded data removed]",
      "text/plain": [
       "<Figure size 432x288 with 1 Axes>"
      ]
     },
     "metadata": {
      "needs_background": "light",
      "tags": []
     },
     "output_type": "display_data"
    }
   ],
   "source": [
    "for i in range(len(x_train)):\n",
    "    x_train[i] = 1 - x_train[i]\n",
    "for i in range(len(x_test)):\n",
    "    x_test[i] = 1 - x_test[i]\n",
    "plt.imshow(x_train[0], cmap = plt.cm.binary)\n",
    "plt.show()"
   ]
  },
  {
   "cell_type": "code",
   "execution_count": 1,
   "metadata": {
    "id": "OZPKZdo9ukuA"
   },
   "outputs": [],
   "source": [
    "def mc_sim(x_train, size=64, launch=\"iso\", length=0.25, thres=0.01): #length is in cm\n",
    "    x, y, z = 0, 0, 0\n",
    "    ux, uy, uz = 0, 0, 0\n",
    "    W = 0\n",
    "    mua = 1.673 #cm^-1\n",
    "    mus = 110   #cm^-1\n",
    "    g = 0.9\n",
    "    albedo = mus / (mus + mua)\n",
    "    output = np.zeros((size, size))\n",
    "\n",
    "    for i in range(size):\n",
    "        for j in range(size):\n",
    "\n",
    "            if launch == \"col\":\n",
    "                # COLLIMATED LAUNCH\n",
    "                W = x_train[i][j]\n",
    "                x = i\n",
    "                y = j\n",
    "                z = 0\n",
    "                uz = 1\n",
    "            if launch == \"iso\":\n",
    "                # ISOTROPIC LAUNCH\n",
    "                W = x_train[i][j]\n",
    "                x = i\n",
    "                y = j\n",
    "                z = 0\n",
    "\n",
    "                costheta = 2 * np.random.rand() - 1\n",
    "                sintheta = np.sqrt(1 - costheta ** 2)\n",
    "                psi = 2 * np.pi * np.random.rand()\n",
    "                ux = sintheta * np.cos(psi)\n",
    "                uy = sintheta * np.sin(psi)\n",
    "                uz = costheta\n",
    "\n",
    "            while length > z > -0.1:\n",
    "                # HOP\n",
    "                s = -np.log(np.random.rand()) / (mua + mus)\n",
    "                x += s * ux\n",
    "                y += s * uy\n",
    "                z += s * uz\n",
    "\n",
    "                # DROP\n",
    "                absorb = W * (1 - albedo)\n",
    "                W -= absorb\n",
    "                if W <= thres:\n",
    "                    break\n",
    "\n",
    "                # SPIN/SCATTER\n",
    "                rnd = np.random.rand()\n",
    "                if g == 0:\n",
    "                    costheta = 2 * rnd - 1\n",
    "                else:\n",
    "                    temp = (1 - g ** 2) / (1 - g + 2 * rnd * g)\n",
    "                    costheta = (1 + g ** 2 - temp ** 2) / (2 * g)\n",
    "                sintheta = np.sqrt(1 - costheta ** 2)\n",
    "\n",
    "                psi = 2 * np.pi * np.random.rand()\n",
    "                cospsi = np.cos(psi)\n",
    "                if psi < np.pi:\n",
    "                    sinpsi = np.sqrt(1 - cospsi ** 2)\n",
    "                else:\n",
    "                    sinpsi = -np.sqrt(1 - cospsi ** 2)\n",
    "\n",
    "                if (1 - abs(uz)) <= 10 ** -12:\n",
    "                    uxx = sintheta * cospsi\n",
    "                    uyy = sintheta * sinpsi\n",
    "                    uzz = costheta * np.sign(uz)\n",
    "                else:\n",
    "                    temp = np.sqrt(1 - uz ** 2)\n",
    "                    uxx = sintheta * (ux * uz * cospsi - uy * sinpsi) / temp + ux * costheta\n",
    "                    uyy = sintheta * (uy * uz * cospsi + ux * sinpsi) / temp + uy * costheta\n",
    "                    uzz = -sintheta * cospsi * temp + uz * costheta\n",
    "\n",
    "                ux = uxx\n",
    "                uy = uyy\n",
    "                uz = uzz\n",
    "\n",
    "            x = int(np.round(x))\n",
    "            y = int(np.round(y))\n",
    "\n",
    "            if z >= length:\n",
    "                if 0 <= x < size:\n",
    "                    if 0 <= y < size:\n",
    "                        output[x][y] = W\n",
    "    return output"
   ]
  },
  {
   "cell_type": "code",
   "execution_count": null,
   "metadata": {
    "id": "pQMdGTAQwStf"
   },
   "outputs": [],
   "source": [
    "for i in range(len(x_train)):\n",
    "    x_train[i] = mc_sim(x_train[i],length=0.1, size=28)\n",
    "    print((i+1)*100/len(x_train),\"%\")"
   ]
  },
  {
   "cell_type": "code",
   "execution_count": null,
   "metadata": {
    "id": "x2T8Cjhgw2EL"
   },
   "outputs": [],
   "source": [
    "for i in range(len(x_test)):\n",
    "    x_test[i] = mc_sim(x_test[i],length=0.1, size=28)\n",
    "    print((i+1)*100/len(x_test),\"%\")"
   ]
  },
  {
   "cell_type": "code",
   "execution_count": null,
   "metadata": {
    "colab": {
     "base_uri": "https://localhost:8080/",
     "height": 265
    },
    "executionInfo": {
     "elapsed": 1008,
     "status": "ok",
     "timestamp": 1615626131286,
     "user": {
      "displayName": "Sayar Mandal",
      "photoUrl": "https://lh3.googleusercontent.com/a-/AOh14GiYfCBsxV5lDpyQsXyzc7eqWNecs8wCIlMqlTXJNw=s64",
      "userId": "04916811164456584774"
     },
     "user_tz": -330
    },
    "id": "5Tl-FYhuzvmd",
    "outputId": "0a19f390-381b-401e-b05b-601bead0e815"
   },
   "outputs": [
    {
     "data": {
      "image/png": "[encoded data removed]",
      "text/plain": [
       "<Figure size 432x288 with 1 Axes>"
      ]
     },
     "metadata": {
      "needs_background": "light",
      "tags": []
     },
     "output_type": "display_data"
    }
   ],
   "source": [
    "plt.imshow(x_train[0], cmap='hot')\n",
    "plt.show()"
   ]
  },
  {
   "cell_type": "code",
   "execution_count": null,
   "metadata": {
    "id": "ZzmF1RcU0-qT"
   },
   "outputs": [],
   "source": [
    "np.save(\"x_train_0.1.npy\",x_train)\n",
    "np.save(\"x_test_0.1.npy\",x_test)"
   ]
  },
  {
   "cell_type": "code",
   "execution_count": null,
   "metadata": {
    "colab": {
     "base_uri": "https://localhost:8080/",
     "height": 265
    },
    "executionInfo": {
     "elapsed": 1026,
     "status": "ok",
     "timestamp": 1615626142433,
     "user": {
      "displayName": "Sayar Mandal",
      "photoUrl": "https://lh3.googleusercontent.com/a-/AOh14GiYfCBsxV5lDpyQsXyzc7eqWNecs8wCIlMqlTXJNw=s64",
      "userId": "04916811164456584774"
     },
     "user_tz": -330
    },
    "id": "dd228sNS1eGg",
    "outputId": "a1b3b977-ad00-4b00-9722-e95b9bf7ba39"
   },
   "outputs": [
    {
     "data": {
      "image/png": "[encoded data removed]",
      "text/plain": [
       "<Figure size 432x288 with 1 Axes>"
      ]
     },
     "metadata": {
      "needs_background": "light",
      "tags": []
     },
     "output_type": "display_data"
    }
   ],
   "source": [
    "x_train = tf.keras.utils.normalize(x_train , axis =1)\n",
    "x_test = tf.keras.utils.normalize(x_test , axis =1)\n",
    "plt.imshow(x_train[0], cmap='hot')\n",
    "plt.show()"
   ]
  },
  {
   "cell_type": "code",
   "execution_count": 77,
   "metadata": {
    "colab": {
     "base_uri": "https://localhost:8080/"
    },
    "executionInfo": {
     "elapsed": 131218,
     "status": "ok",
     "timestamp": 1615631751224,
     "user": {
      "displayName": "Sayar Mandal",
      "photoUrl": "https://lh3.googleusercontent.com/a-/AOh14GiYfCBsxV5lDpyQsXyzc7eqWNecs8wCIlMqlTXJNw=s64",
      "userId": "04916811164456584774"
     },
     "user_tz": -330
    },
    "id": "oyOGFlbX1liM",
    "outputId": "e0510ee9-204c-4b76-afc5-a592b6ec0907"
   },
   "outputs": [
    {
     "name": "stdout",
     "output_type": "stream",
     "text": [
      "Epoch 1/20\n",
      "400/400 [==============================] - 7s 16ms/step - loss: 2.3075 - accuracy: 0.1103\n",
      "Epoch 2/20\n",
      "400/400 [==============================] - 6s 16ms/step - loss: 1.7085 - accuracy: 0.4208\n",
      "Epoch 3/20\n",
      "400/400 [==============================] - 6s 16ms/step - loss: 1.3030 - accuracy: 0.5652\n",
      "Epoch 4/20\n",
      "400/400 [==============================] - 6s 16ms/step - loss: 0.9708 - accuracy: 0.6834\n",
      "Epoch 5/20\n",
      "400/400 [==============================] - 6s 16ms/step - loss: 0.6393 - accuracy: 0.7834\n",
      "Epoch 6/20\n",
      "400/400 [==============================] - 6s 16ms/step - loss: 0.3461 - accuracy: 0.9014\n",
      "Epoch 7/20\n",
      "400/400 [==============================] - 6s 16ms/step - loss: 0.1899 - accuracy: 0.9400\n",
      "Epoch 8/20\n",
      "400/400 [==============================] - 6s 16ms/step - loss: 0.1194 - accuracy: 0.9692\n",
      "Epoch 9/20\n",
      "400/400 [==============================] - 6s 16ms/step - loss: 0.1045 - accuracy: 0.9692\n",
      "Epoch 10/20\n",
      "400/400 [==============================] - 6s 16ms/step - loss: 0.0781 - accuracy: 0.9788\n",
      "Epoch 11/20\n",
      "400/400 [==============================] - 6s 16ms/step - loss: 0.0702 - accuracy: 0.9813\n",
      "Epoch 12/20\n",
      "400/400 [==============================] - 7s 16ms/step - loss: 0.0879 - accuracy: 0.9737\n",
      "Epoch 13/20\n",
      "400/400 [==============================] - 7s 16ms/step - loss: 0.0717 - accuracy: 0.9767\n",
      "Epoch 14/20\n",
      "400/400 [==============================] - 7s 16ms/step - loss: 0.0624 - accuracy: 0.9796\n",
      "Epoch 15/20\n",
      "400/400 [==============================] - 6s 16ms/step - loss: 0.0837 - accuracy: 0.9694\n",
      "Epoch 16/20\n",
      "400/400 [==============================] - 6s 16ms/step - loss: 0.0747 - accuracy: 0.9740\n",
      "Epoch 17/20\n",
      "400/400 [==============================] - 7s 16ms/step - loss: 0.0758 - accuracy: 0.9751\n",
      "Epoch 18/20\n",
      "400/400 [==============================] - 6s 16ms/step - loss: 0.0704 - accuracy: 0.9746\n",
      "Epoch 19/20\n",
      "400/400 [==============================] - 6s 16ms/step - loss: 0.0730 - accuracy: 0.9783\n",
      "Epoch 20/20\n",
      "400/400 [==============================] - 7s 16ms/step - loss: 0.0548 - accuracy: 0.9774\n"
     ]
    },
    {
     "data": {
      "text/plain": [
       "<tensorflow.python.keras.callbacks.History at 0x7f21381a5210>"
      ]
     },
     "execution_count": 77,
     "metadata": {
      "tags": []
     },
     "output_type": "execute_result"
    }
   ],
   "source": [
    "from keras.layers.advanced_activations import LeakyReLU\n",
    "X = x_train.reshape(-1,28,28,1)\n",
    "y = np.array(y_train)\n",
    "\n",
    "dense_layer = 1\n",
    "layer_size = 64\n",
    "conv_layer = 2\n",
    "\n",
    "model = Sequential()\n",
    "\n",
    "model.add(Conv2D(layer_size, (3, 3), input_shape=X.shape[1:],padding=\"same\"))\n",
    "model.add(LeakyReLU(alpha=0.3))\n",
    "model.add(MaxPooling2D(pool_size=(2, 2)))\n",
    "model.add(Dropout(0.2))\n",
    "\n",
    "for l in range(conv_layer-1):\n",
    "  model.add(Conv2D(layer_size, (3, 3),padding=\"same\"))\n",
    "  model.add(LeakyReLU(alpha=0.3))\n",
    "  model.add(MaxPooling2D(pool_size=(2, 2)))\n",
    "  model.add(Dropout(0.2))\n",
    "\n",
    "model.add(Flatten())\n",
    "\n",
    "for l in range(dense_layer):\n",
    "    model.add(Dense(128))\n",
    "    model.add(LeakyReLU(alpha=0.3))\n",
    "    model.add(Dropout(0.2))\n",
    "\n",
    "model.add(Dense(10))\n",
    "model.add(Activation('softmax'))\n",
    "\n",
    "\n",
    "model.compile(loss='sparse_categorical_crossentropy',\n",
    "              optimizer='adam',\n",
    "              metrics=['accuracy'])\n",
    "\n",
    "model.fit(X, y,\n",
    "          batch_size=5,\n",
    "          epochs=20)"
   ]
  },
  {
   "cell_type": "code",
   "execution_count": 78,
   "metadata": {
    "colab": {
     "base_uri": "https://localhost:8080/"
    },
    "executionInfo": {
     "elapsed": 1166,
     "status": "ok",
     "timestamp": 1615631754297,
     "user": {
      "displayName": "Sayar Mandal",
      "photoUrl": "https://lh3.googleusercontent.com/a-/AOh14GiYfCBsxV5lDpyQsXyzc7eqWNecs8wCIlMqlTXJNw=s64",
      "userId": "04916811164456584774"
     },
     "user_tz": -330
    },
    "id": "GR8BBYLb19Zo",
    "outputId": "311d9821-db2a-4387-aca6-1c6f55c10d37"
   },
   "outputs": [
    {
     "name": "stdout",
     "output_type": "stream",
     "text": [
      "7/7 [==============================] - 0s 17ms/step - loss: 4.4754 - accuracy: 0.3400\n",
      "4.475366115570068 0.3400000035762787\n"
     ]
    }
   ],
   "source": [
    "X_test = x_test.reshape(-1,28,28,1)\n",
    "y_test = np.array(y_test)\n",
    "val_loss, val_accuracy = model.evaluate(X_test,y_test)\n",
    "print(val_loss,val_accuracy)"
   ]
  },
  {
   "cell_type": "code",
   "execution_count": null,
   "metadata": {
    "id": "YPWsMo482IQy"
   },
   "outputs": [],
   "source": []
  }
 ],
 "metadata": {
  "colab": {
   "authorship_tag": "ABX9TyPjKTpcbxEFucwK7rP/M3ed",
   "collapsed_sections": [],
   "name": "Scattered image identifier.ipynb",
   "provenance": []
  },
  "kernelspec": {
   "display_name": "Python 3",
   "language": "python",
   "name": "python3"
  },
  "language_info": {
   "codemirror_mode": {
    "name": "ipython",
    "version": 3
   },
   "file_extension": ".py",
   "mimetype": "text/x-python",
   "name": "python",
   "nbconvert_exporter": "python",
   "pygments_lexer": "ipython3",
   "version": "3.8.5"
  }
 },
 "nbformat": 4,
 "nbformat_minor": 4
}
